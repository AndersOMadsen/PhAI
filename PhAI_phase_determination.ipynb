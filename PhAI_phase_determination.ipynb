{
  "cells": [
    {
      "cell_type": "markdown",
      "metadata": {
        "id": "view-in-github",
        "colab_type": "text"
      },
      "source": [
        "<a href=\"https://colab.research.google.com/github/AndersOMadsen/PhAI/blob/main/PhAI_phase_determination.ipynb\" target=\"_parent\"><img src=\"https://colab.research.google.com/assets/colab-badge.svg\" alt=\"Open In Colab\"/></a>"
      ]
    },
    {
      "cell_type": "markdown",
      "id": "3106089d",
      "metadata": {
        "id": "3106089d"
      },
      "source": [
        "## PhAI phase determination notebook.\n",
        "\n",
        "In the cell below, please supply the name of your .hkl data file.\n",
        "Also, indicate the number of phasing cycles you would like to use. The default number is 5 and should be sufficient in almost all cases.\n",
        "You can also choose to have all phases equal zero as your starting guess, or use random phases.\n",
        "PhAI will output a '.F' file containing the structure factors, including phases.\n",
        "Provided the cell dimensions of your system, we will generate and XPLOR map (electron density map) that can be read by the program PyMol.\n",
        "We also generate a '.fcf' cif file containing the phased structure factors. The format corresponds to the 'LIST 3' format produced by shelxl, and is readable by Olex2.\n",
        "\n",
        "\n",
        "The current version of this notebook is hardcoded to the space group P21/c. This implies that if your data corresponds to an other space group, or to another setting of spacegroup no. 14, such as P21/a, you will have to transform the data.\n"
      ]
    },
    {
      "cell_type": "markdown",
      "id": "fa7385ab",
      "metadata": {
        "id": "fa7385ab"
      },
      "source": [
        "### -- User input --"
      ]
    },
    {
      "cell_type": "code",
      "execution_count": null,
      "id": "7e76d21d",
      "metadata": {
        "id": "7e76d21d"
      },
      "outputs": [],
      "source": [
        "infile = 'COD_2016452.hkl'  # input hkl file.\n",
        "n = 5                 # number of phasing cycles\n",
        "p = 1                 # p = 0 => initial phases zero. p = 1 => initial phases random.\n",
        "t = False             # should we output the results of each phase cycle?\n",
        "cellparam = [9.748,8.89,7.566,90,112.74,90]  # cell parameters\n",
        "map_resolution = 0.1  # resolution of XPLOR map"
      ]
    },
    {
      "cell_type": "markdown",
      "id": "994be76a",
      "metadata": {
        "id": "994be76a"
      },
      "source": [
        "### -- End of user input --"
      ]
    },
    {
      "cell_type": "code",
      "execution_count": null,
      "id": "46c599f9",
      "metadata": {
        "colab": {
          "base_uri": "https://localhost:8080/"
        },
        "id": "46c599f9",
        "outputId": "4630a875-f390-45f6-941e-f78791b816eb"
      },
      "outputs": [
        {
          "output_type": "stream",
          "name": "stdout",
          "text": [
            "Collecting einops\n",
            "  Downloading einops-0.7.0-py3-none-any.whl (44 kB)\n",
            "\u001b[?25l     \u001b[90m━━━━━━━━━━━━━━━━━━━━━━━━━━━━━━━━━━━━━━━━\u001b[0m \u001b[32m0.0/44.6 kB\u001b[0m \u001b[31m?\u001b[0m eta \u001b[36m-:--:--\u001b[0m\r\u001b[2K     \u001b[90m━━━━━━━━━━━━━━━━━━━━━━━━━━━━━━━━━━━━━━━━\u001b[0m \u001b[32m44.6/44.6 kB\u001b[0m \u001b[31m1.6 MB/s\u001b[0m eta \u001b[36m0:00:00\u001b[0m\n",
            "\u001b[?25hInstalling collected packages: einops\n",
            "Successfully installed einops-0.7.0\n",
            "Collecting xraydb\n",
            "  Downloading xraydb-4.5.4-py3-none-any.whl (3.9 MB)\n",
            "\u001b[2K     \u001b[90m━━━━━━━━━━━━━━━━━━━━━━━━━━━━━━━━━━━━━━━━\u001b[0m \u001b[32m3.9/3.9 MB\u001b[0m \u001b[31m25.5 MB/s\u001b[0m eta \u001b[36m0:00:00\u001b[0m\n",
            "\u001b[?25hRequirement already satisfied: numpy>=1.12 in /usr/local/lib/python3.10/dist-packages (from xraydb) (1.25.2)\n",
            "Requirement already satisfied: scipy>=1.5 in /usr/local/lib/python3.10/dist-packages (from xraydb) (1.11.4)\n",
            "Requirement already satisfied: sqlalchemy>=2.0.1 in /usr/local/lib/python3.10/dist-packages (from xraydb) (2.0.29)\n",
            "Requirement already satisfied: platformdirs in /usr/local/lib/python3.10/dist-packages (from xraydb) (4.2.0)\n",
            "Requirement already satisfied: packaging in /usr/local/lib/python3.10/dist-packages (from xraydb) (24.0)\n",
            "Requirement already satisfied: typing-extensions>=4.6.0 in /usr/local/lib/python3.10/dist-packages (from sqlalchemy>=2.0.1->xraydb) (4.10.0)\n",
            "Requirement already satisfied: greenlet!=0.4.17 in /usr/local/lib/python3.10/dist-packages (from sqlalchemy>=2.0.1->xraydb) (3.0.3)\n",
            "Installing collected packages: xraydb\n",
            "Successfully installed xraydb-4.5.4\n",
            "Collecting fortranformat\n",
            "  Downloading fortranformat-2.0.0.tar.gz (22 kB)\n",
            "  Preparing metadata (setup.py) ... \u001b[?25l\u001b[?25hdone\n",
            "Building wheels for collected packages: fortranformat\n",
            "  Building wheel for fortranformat (setup.py) ... \u001b[?25l\u001b[?25hdone\n",
            "  Created wheel for fortranformat: filename=fortranformat-2.0.0-py3-none-any.whl size=24536 sha256=3bbe32741b3a07446a6ecc7b0699d55688dc91ef6ec76b173b3ea9d44969c4b3\n",
            "  Stored in directory: /root/.cache/pip/wheels/02/ca/38/f24153dd3ad835514c1cc3fc1d95e461fd120c7d6d308942a8\n",
            "Successfully built fortranformat\n",
            "Installing collected packages: fortranformat\n",
            "Successfully installed fortranformat-2.0.0\n",
            "Requirement already satisfied: gdown in /usr/local/lib/python3.10/dist-packages (4.7.3)\n",
            "Collecting gdown\n",
            "  Downloading gdown-5.1.0-py3-none-any.whl (17 kB)\n",
            "Requirement already satisfied: beautifulsoup4 in /usr/local/lib/python3.10/dist-packages (from gdown) (4.12.3)\n",
            "Requirement already satisfied: filelock in /usr/local/lib/python3.10/dist-packages (from gdown) (3.13.3)\n",
            "Requirement already satisfied: requests[socks] in /usr/local/lib/python3.10/dist-packages (from gdown) (2.31.0)\n",
            "Requirement already satisfied: tqdm in /usr/local/lib/python3.10/dist-packages (from gdown) (4.66.2)\n",
            "Requirement already satisfied: soupsieve>1.2 in /usr/local/lib/python3.10/dist-packages (from beautifulsoup4->gdown) (2.5)\n",
            "Requirement already satisfied: charset-normalizer<4,>=2 in /usr/local/lib/python3.10/dist-packages (from requests[socks]->gdown) (3.3.2)\n",
            "Requirement already satisfied: idna<4,>=2.5 in /usr/local/lib/python3.10/dist-packages (from requests[socks]->gdown) (3.6)\n",
            "Requirement already satisfied: urllib3<3,>=1.21.1 in /usr/local/lib/python3.10/dist-packages (from requests[socks]->gdown) (2.0.7)\n",
            "Requirement already satisfied: certifi>=2017.4.17 in /usr/local/lib/python3.10/dist-packages (from requests[socks]->gdown) (2024.2.2)\n",
            "Requirement already satisfied: PySocks!=1.5.7,>=1.5.6 in /usr/local/lib/python3.10/dist-packages (from requests[socks]->gdown) (1.7.1)\n",
            "Installing collected packages: gdown\n",
            "  Attempting uninstall: gdown\n",
            "    Found existing installation: gdown 4.7.3\n",
            "    Uninstalling gdown-4.7.3:\n",
            "      Successfully uninstalled gdown-4.7.3\n",
            "Successfully installed gdown-5.1.0\n",
            "Downloading...\n",
            "From (original): https://drive.google.com/uc?id=1_eleZ6dBvdKQQeZwxeOJ82g5lPVzmb2M\n",
            "From (redirected): https://drive.google.com/uc?id=1_eleZ6dBvdKQQeZwxeOJ82g5lPVzmb2M&confirm=t&uuid=5ed2be9e-8887-4c85-89e7-3cb3e0416fca\n",
            "To: /content/PhAI_model.pth\n",
            "100% 170M/170M [00:00<00:00, 180MB/s]\n",
            "Downloading...\n",
            "From (original): https://drive.google.com/uc?id=14lqkA_Frfy8WpoYyJ-v2sfKkhfPTlNFO\n",
            "From (redirected): https://drive.google.com/uc?id=14lqkA_Frfy8WpoYyJ-v2sfKkhfPTlNFO&confirm=t&uuid=69f60fb3-c3a0-4c57-9969-09566e84ad92\n",
            "To: /content/PhAI_jupyter_test.py\n",
            "100% 7.66k/7.66k [00:00<00:00, 17.9MB/s]\n",
            "Downloading...\n",
            "From (original): https://drive.google.com/uc?id=10U-JUhNQKvoYCRPAv5k-iC2D5vdq6MxM\n",
            "From (redirected): https://drive.google.com/uc?id=10U-JUhNQKvoYCRPAv5k-iC2D5vdq6MxM&confirm=t&uuid=dad28964-6464-4530-9229-9f913cebd26f\n",
            "To: /content/crystallography_module.py\n",
            "100% 41.5k/41.5k [00:00<00:00, 59.6MB/s]\n",
            "Downloading...\n",
            "From: https://drive.google.com/uc?id=1Str3GWahzB1QZtpU2obBj-KSbH9JCV8P\n",
            "To: /content/COD_2016452.hkl\n",
            "100% 5.51k/5.51k [00:00<00:00, 18.4MB/s]\n",
            "--2024-04-05 12:26:24--  https://raw.githubusercontent.com/AJK-dev/course_materials/main/Ligand_based_machine_learning/data/EGFR_compounds_lipinski.csv\n",
            "Resolving raw.githubusercontent.com (raw.githubusercontent.com)... 185.199.108.133, 185.199.109.133, 185.199.110.133, ...\n",
            "Connecting to raw.githubusercontent.com (raw.githubusercontent.com)|185.199.108.133|:443... connected.\n",
            "HTTP request sent, awaiting response... 200 OK\n",
            "Length: 543319 (531K) [text/plain]\n",
            "Saving to: ‘EGFR_compounds_lipinski.csv.1’\n",
            "\n",
            "EGFR_compounds_lipi 100%[===================>] 530.58K  --.-KB/s    in 0.008s  \n",
            "\n",
            "2024-04-05 12:26:24 (63.2 MB/s) - ‘EGFR_compounds_lipinski.csv.1’ saved [543319/543319]\n",
            "\n"
          ]
        }
      ],
      "source": [
        "!pip install einops\n",
        "!pip install xraydb\n",
        "!pip install fortranformat\n",
        "!pip install --upgrade --no-cache-dir gdown\n",
        "\n",
        "# downloading sample data, PhAI code and PhAI network.\n",
        "!gdown 1_eleZ6dBvdKQQeZwxeOJ82g5lPVzmb2M\n",
        "!gdown 14lqkA_Frfy8WpoYyJ-v2sfKkhfPTlNFO\n",
        "!gdown 10U-JUhNQKvoYCRPAv5k-iC2D5vdq6MxM\n",
        "!gdown 1Str3GWahzB1QZtpU2obBj-KSbH9JCV8P\n",
        "\n",
        "# Read EGFR inhibitor data\n",
        "!wget \"https://raw.githubusercontent.com/AJK-dev/course_materials/main/Ligand_based_machine_learning/data/EGFR_compounds_lipinski.csv\"\n",
        "\n",
        "\n",
        "import PhAI_jupyter_test as PJ\n",
        "import pandas as pd\n",
        "import crystallography_module\n",
        "import torch\n",
        "import math\n",
        "import numpy as np\n",
        "\n",
        "\n"
      ]
    },
    {
      "cell_type": "markdown",
      "id": "94b9ef26",
      "metadata": {
        "id": "94b9ef26"
      },
      "source": [
        "Symmetry operators (P21/c)"
      ]
    },
    {
      "cell_type": "code",
      "execution_count": null,
      "id": "bf0078cb",
      "metadata": {
        "id": "bf0078cb"
      },
      "outputs": [],
      "source": [
        "symmR = [[[ 1. , 0.,  0.],\n",
        "          [ 0. , 1.,  0.],\n",
        "          [ 0. , 0.,  1.]],\n",
        "\n",
        "         [[-1.,  0.,  0.],\n",
        "          [ 0.,  1.,  0.],\n",
        "          [ 0.,  0., -1.]],\n",
        "\n",
        "         [[ 1.,  0.,  0.],\n",
        "          [ 0., -1.,  0.],\n",
        "          [ 0.,  0.,  1.]],\n",
        "\n",
        "         [[-1.,  0.,  0.],\n",
        "          [ 0., -1.,  0.],\n",
        "          [ 0.,  0., -1.]]]\n",
        "\n",
        "symmT = [[0.,  0.,  0. ],\n",
        "         [0.,  0.5, 0.5],\n",
        "         [0.,  0.5, 0.5],\n",
        "         [0.,  0.,  0. ]]"
      ]
    },
    {
      "cell_type": "markdown",
      "id": "b6e37536",
      "metadata": {
        "id": "b6e37536"
      },
      "source": [
        "Defining and loading the neural network and data array."
      ]
    },
    {
      "cell_type": "code",
      "execution_count": null,
      "id": "1230260e",
      "metadata": {
        "id": "1230260e"
      },
      "outputs": [],
      "source": [
        "\n",
        "# model definition\n",
        "model_args = {\n",
        "     'max_index' : 10,\n",
        "       'filters' : 96,\n",
        "   'kernel_size' : 3,\n",
        "     'cnn_depth' : 6,\n",
        "           'dim' : 1024,\n",
        "       'dim_exp' : 2048,\n",
        " 'dim_token_exp' : 512,\n",
        "     'mlp_depth' : 8,\n",
        "   'reflections' : 1205,\n",
        "}\n",
        "\n",
        "\n",
        "model = PJ.PhAINeuralNetwork(**model_args)\n",
        "state = torch.load('./PhAI_model.pth')#, weights_only = True)\n",
        "model.load_state_dict(state)\n",
        "\n",
        "max_index = 10\n",
        "hkl_array = []\n",
        "for h in range(-max_index, max_index+1):\n",
        "    for k in range(0, max_index+1):\n",
        "        for l in range(0, max_index+1):\n",
        "            if not(h==0 and k==0 and l==0):\n",
        "                if math.sqrt(h**2+k**2+l**2) <= max_index:\n",
        "                    hkl_array.append([h,k,l])\n",
        "hkl_array = np.array(hkl_array,dtype=np.int32)\n",
        "\n"
      ]
    },
    {
      "cell_type": "markdown",
      "id": "b65cbd91",
      "metadata": {
        "id": "b65cbd91"
      },
      "source": [
        "Loading and sorting of reflections"
      ]
    },
    {
      "cell_type": "code",
      "execution_count": null,
      "id": "0fe15102",
      "metadata": {
        "id": "0fe15102"
      },
      "outputs": [],
      "source": [
        "data = pd.read_table(infile, header=None, delim_whitespace=True)\n",
        "H_tmp = data.loc[:,0:2].astype(int).to_numpy()\n",
        "Fabs_tmp = data.loc[:,3].astype(float).to_numpy()\n",
        "\n",
        "H, Fabs = crystallography_module.merge_reflections(H_tmp, Fabs_tmp)\n",
        "\n",
        "\n",
        "amplitudes = torch.zeros(1,21,11,11)\n",
        "for i in range(len(H)):\n",
        "  if H[i][0] + 10 < 21:\n",
        "    if H[i][1] < 11:\n",
        "      if H[i][2] < 11:\n",
        "        amplitudes[0][H[i][0]+10][H[i][1]][H[i][2]] = Fabs[i]\n",
        "\n",
        "\n",
        "amplitudes_ord = []\n",
        "for h in range(-max_index, max_index+1):\n",
        "    for k in range(0, max_index+1):\n",
        "        for l in range(0, max_index+1):\n",
        "            if not(h==0 and k==0 and l==0):\n",
        "                if math.sqrt(h**2+k**2+l**2) <= max_index:\n",
        "                    amplitudes_ord.append(amplitudes[0][h+10][k][l])\n",
        "\n"
      ]
    },
    {
      "cell_type": "markdown",
      "id": "36038733",
      "metadata": {
        "id": "36038733"
      },
      "source": [
        "Application of PhAI and output of results (.F and .fcf format)"
      ]
    },
    {
      "cell_type": "code",
      "execution_count": null,
      "id": "db4478fc",
      "metadata": {
        "id": "db4478fc"
      },
      "outputs": [],
      "source": [
        "\n",
        "\n",
        "if p == 0:\n",
        "    init_phases = torch.zeros(1,21,11,11)\n",
        "else:\n",
        "    init_phases = PJ.randomize_output(torch.zeros(1,21,11,11))\n",
        "\n",
        "for i in range(n):\n",
        "    #print('cycle: ', i+1)\n",
        "    if i == 0:\n",
        "        output = PJ.phases(PJ.model(amplitudes, init_phases))\n",
        "        if t == True and n != 1:\n",
        "            PJ.output_files(amplitudes_ord, output, infile[:len(infile)-4] + '_' + str(i+1) + '.F', infile[:len(infile)-4] + '_phase_extension_' + str(i+1) + '.F', cellparam)\n",
        "    else:\n",
        "        for j in range(len(PJ.hkl_array)):\n",
        "            init_phases[0][PJ.hkl_array[j][0]+10][PJ.hkl_array[j][1]][PJ.hkl_array[j][2]] = output[0][j]\n",
        "        output = PJ.phases(PJ.model(amplitudes, init_phases))\n",
        "        if t == True and i + 1 != n:\n",
        "            PJ.output_files(amplitudes_ord, output, infile[:len(infile)-4] + '_' + str(i+1) + '.F', infile[:len(infile)-4] + '_phase_extension_' + str(i+1) + '.F', cellparam)\n",
        "\n",
        "PJ.output_files(amplitudes_ord, output, infile[:len(infile)-4] + '.F', infile[:len(infile)-4] + '_phase_extension.F',cellparam)\n"
      ]
    },
    {
      "cell_type": "markdown",
      "id": "0be2e3d3",
      "metadata": {
        "id": "0be2e3d3"
      },
      "source": [
        "Reading data from saved .F file, computing density and saving as .xplor file. Can be loaded by Pymol.\n",
        "The .fcf file can be loaded into Olex2 for map visualization."
      ]
    },
    {
      "cell_type": "code",
      "execution_count": null,
      "id": "70784b0e",
      "metadata": {
        "id": "70784b0e"
      },
      "outputs": [],
      "source": [
        "H, F = crystallography_module.read_F(infile[:len(infile)-4] + '.F')"
      ]
    },
    {
      "cell_type": "code",
      "execution_count": null,
      "id": "0d89eb82",
      "metadata": {
        "id": "0d89eb82"
      },
      "outputs": [],
      "source": [
        "H_full, F_full = crystallography_module.complete_hkl(H, F, SG_symm=[symmR, symmT], half=True)"
      ]
    },
    {
      "cell_type": "code",
      "execution_count": null,
      "id": "b5a04219",
      "metadata": {
        "colab": {
          "base_uri": "https://localhost:8080/"
        },
        "id": "b5a04219",
        "outputId": "f32472a3-c318-431c-a6c7-f30812f19873"
      },
      "outputs": [
        {
          "output_type": "stream",
          "name": "stdout",
          "text": []
        }
      ],
      "source": [
        "den_map = crystallography_module.calc_density_map_full(H_full, F_full, cellparam, map_resolution, pixel_mult=(2, 2, 2), N=2, sort_reflns=False)"
      ]
    },
    {
      "cell_type": "code",
      "execution_count": null,
      "id": "fefb4bcc",
      "metadata": {
        "scrolled": true,
        "colab": {
          "base_uri": "https://localhost:8080/"
        },
        "id": "fefb4bcc",
        "outputId": "81e4e414-6515-4043-c269-ac1d37be4e07"
      },
      "outputs": [
        {
          "output_type": "stream",
          "name": "stdout",
          "text": [
            "\n"
          ]
        }
      ],
      "source": [
        "crystallography_module.save_den_map_xplor(den_map, cellparam, infile[:len(infile)-2] + '.xplor', infile[:len(infile)-2])"
      ]
    },
    {
      "cell_type": "markdown",
      "id": "f366b81e",
      "metadata": {
        "id": "f366b81e"
      },
      "source": [
        "End of PhAI Jupyter notebook."
      ]
    }
  ],
  "metadata": {
    "kernelspec": {
      "display_name": "Python 3 (ipykernel)",
      "language": "python",
      "name": "python3"
    },
    "language_info": {
      "codemirror_mode": {
        "name": "ipython",
        "version": 3
      },
      "file_extension": ".py",
      "mimetype": "text/x-python",
      "name": "python",
      "nbconvert_exporter": "python",
      "pygments_lexer": "ipython3",
      "version": "3.10.13"
    },
    "colab": {
      "provenance": [],
      "include_colab_link": true
    }
  },
  "nbformat": 4,
  "nbformat_minor": 5
}