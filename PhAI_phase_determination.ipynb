{
  "cells": [
    {
      "cell_type": "markdown",
      "metadata": {
        "id": "view-in-github",
        "colab_type": "text"
      },
      "source": [
        "<a href=\"https://colab.research.google.com/github/AndersOMadsen/PhAI/blob/main/PhAI_phase_determination.ipynb\" target=\"_parent\"><img src=\"https://colab.research.google.com/assets/colab-badge.svg\" alt=\"Open In Colab\"/></a>"
      ]
    },
    {
      "cell_type": "markdown",
      "id": "3106089d",
      "metadata": {
        "id": "3106089d"
      },
      "source": [
        "## PhAI phase determination notebook.\n",
        "\n",
        "In the cell below, please supply the name of your .hkl data file.\n",
        "Also, indicate the number of phasing cycles you would like to use. The default number is 5 and should be sufficient in almost all cases.\n",
        "You can also choose to have all phases equal zero as your starting guess, or use random phases.\n",
        "PhAI will output a '.F' file containing the structure factors, including phases.\n",
        "Provided the cell dimensions of your system, we will generate and XPLOR map (electron density map) that can be read by the program PyMol.\n",
        "We also generate a '.fcf' cif file containing the phased structure factors. The format corresponds to the 'LIST 3' format produced by shelxl, and is readable by Olex2.\n",
        "\n",
        "\n",
        "The current version of this notebook is hardcoded to the space group P21/c. This implies that if your data corresponds to an other space group, or to another setting of spacegroup no. 14, such as P21/a, you will have to transform the data.\n"
      ]
    },
    {
      "cell_type": "markdown",
      "id": "fa7385ab",
      "metadata": {
        "id": "fa7385ab"
      },
      "source": [
        "### -- User input --"
      ]
    },
    {
      "cell_type": "code",
      "execution_count": 11,
      "id": "7e76d21d",
      "metadata": {
        "id": "7e76d21d"
      },
      "outputs": [],
      "source": [
        "infile = 'COD_2016452.hkl'  # input hkl file.\n",
        "n = 5                 # number of phasing cycles\n",
        "p = 1                 # p = 0 => initial phases zero. p = 1 => initial phases random.\n",
        "t = False             # should we output the results of each phase cycle?\n",
        "cellparam = [9.748,8.89,7.566,90,112.74,90]  # cell parameters\n",
        "map_resolution = 0.1  # resolution of XPLOR map"
      ]
    },
    {
      "cell_type": "markdown",
      "id": "994be76a",
      "metadata": {
        "id": "994be76a"
      },
      "source": [
        "### -- End of user input --"
      ]
    },
    {
      "cell_type": "code",
      "execution_count": 12,
      "id": "46c599f9",
      "metadata": {
        "colab": {
          "base_uri": "https://localhost:8080/"
        },
        "id": "46c599f9",
        "outputId": "dfe4f2ba-d5f2-45f9-bbf5-54c66a8e32bb"
      },
      "outputs": [
        {
          "output_type": "stream",
          "name": "stdout",
          "text": [
            "Requirement already satisfied: einops in /usr/local/lib/python3.10/dist-packages (0.7.0)\n",
            "Requirement already satisfied: xraydb in /usr/local/lib/python3.10/dist-packages (4.5.4)\n",
            "Requirement already satisfied: numpy>=1.12 in /usr/local/lib/python3.10/dist-packages (from xraydb) (1.25.2)\n",
            "Requirement already satisfied: scipy>=1.5 in /usr/local/lib/python3.10/dist-packages (from xraydb) (1.11.4)\n",
            "Requirement already satisfied: sqlalchemy>=2.0.1 in /usr/local/lib/python3.10/dist-packages (from xraydb) (2.0.29)\n",
            "Requirement already satisfied: platformdirs in /usr/local/lib/python3.10/dist-packages (from xraydb) (4.2.0)\n",
            "Requirement already satisfied: packaging in /usr/local/lib/python3.10/dist-packages (from xraydb) (24.0)\n",
            "Requirement already satisfied: typing-extensions>=4.6.0 in /usr/local/lib/python3.10/dist-packages (from sqlalchemy>=2.0.1->xraydb) (4.11.0)\n",
            "Requirement already satisfied: greenlet!=0.4.17 in /usr/local/lib/python3.10/dist-packages (from sqlalchemy>=2.0.1->xraydb) (3.0.3)\n",
            "Requirement already satisfied: fortranformat in /usr/local/lib/python3.10/dist-packages (2.0.0)\n",
            "Requirement already satisfied: gdown in /usr/local/lib/python3.10/dist-packages (5.1.0)\n",
            "Requirement already satisfied: beautifulsoup4 in /usr/local/lib/python3.10/dist-packages (from gdown) (4.12.3)\n",
            "Requirement already satisfied: filelock in /usr/local/lib/python3.10/dist-packages (from gdown) (3.13.4)\n",
            "Requirement already satisfied: requests[socks] in /usr/local/lib/python3.10/dist-packages (from gdown) (2.31.0)\n",
            "Requirement already satisfied: tqdm in /usr/local/lib/python3.10/dist-packages (from gdown) (4.66.2)\n",
            "Requirement already satisfied: soupsieve>1.2 in /usr/local/lib/python3.10/dist-packages (from beautifulsoup4->gdown) (2.5)\n",
            "Requirement already satisfied: charset-normalizer<4,>=2 in /usr/local/lib/python3.10/dist-packages (from requests[socks]->gdown) (3.3.2)\n",
            "Requirement already satisfied: idna<4,>=2.5 in /usr/local/lib/python3.10/dist-packages (from requests[socks]->gdown) (3.6)\n",
            "Requirement already satisfied: urllib3<3,>=1.21.1 in /usr/local/lib/python3.10/dist-packages (from requests[socks]->gdown) (2.0.7)\n",
            "Requirement already satisfied: certifi>=2017.4.17 in /usr/local/lib/python3.10/dist-packages (from requests[socks]->gdown) (2024.2.2)\n",
            "Requirement already satisfied: PySocks!=1.5.7,>=1.5.6 in /usr/local/lib/python3.10/dist-packages (from requests[socks]->gdown) (1.7.1)\n",
            "Requirement already satisfied: torch in /usr/local/lib/python3.10/dist-packages (2.2.1+cu121)\n",
            "Requirement already satisfied: filelock in /usr/local/lib/python3.10/dist-packages (from torch) (3.13.4)\n",
            "Requirement already satisfied: typing-extensions>=4.8.0 in /usr/local/lib/python3.10/dist-packages (from torch) (4.11.0)\n",
            "Requirement already satisfied: sympy in /usr/local/lib/python3.10/dist-packages (from torch) (1.12)\n",
            "Requirement already satisfied: networkx in /usr/local/lib/python3.10/dist-packages (from torch) (3.3)\n",
            "Requirement already satisfied: jinja2 in /usr/local/lib/python3.10/dist-packages (from torch) (3.1.3)\n",
            "Requirement already satisfied: fsspec in /usr/local/lib/python3.10/dist-packages (from torch) (2023.6.0)\n",
            "Collecting nvidia-cuda-nvrtc-cu12==12.1.105 (from torch)\n",
            "  Using cached nvidia_cuda_nvrtc_cu12-12.1.105-py3-none-manylinux1_x86_64.whl (23.7 MB)\n",
            "Collecting nvidia-cuda-runtime-cu12==12.1.105 (from torch)\n",
            "  Using cached nvidia_cuda_runtime_cu12-12.1.105-py3-none-manylinux1_x86_64.whl (823 kB)\n",
            "Collecting nvidia-cuda-cupti-cu12==12.1.105 (from torch)\n",
            "  Using cached nvidia_cuda_cupti_cu12-12.1.105-py3-none-manylinux1_x86_64.whl (14.1 MB)\n",
            "Collecting nvidia-cudnn-cu12==8.9.2.26 (from torch)\n",
            "  Using cached nvidia_cudnn_cu12-8.9.2.26-py3-none-manylinux1_x86_64.whl (731.7 MB)\n",
            "Collecting nvidia-cublas-cu12==12.1.3.1 (from torch)\n",
            "  Using cached nvidia_cublas_cu12-12.1.3.1-py3-none-manylinux1_x86_64.whl (410.6 MB)\n",
            "Collecting nvidia-cufft-cu12==11.0.2.54 (from torch)\n",
            "  Using cached nvidia_cufft_cu12-11.0.2.54-py3-none-manylinux1_x86_64.whl (121.6 MB)\n",
            "Collecting nvidia-curand-cu12==10.3.2.106 (from torch)\n",
            "  Using cached nvidia_curand_cu12-10.3.2.106-py3-none-manylinux1_x86_64.whl (56.5 MB)\n",
            "Collecting nvidia-cusolver-cu12==11.4.5.107 (from torch)\n",
            "  Using cached nvidia_cusolver_cu12-11.4.5.107-py3-none-manylinux1_x86_64.whl (124.2 MB)\n",
            "Collecting nvidia-cusparse-cu12==12.1.0.106 (from torch)\n",
            "  Using cached nvidia_cusparse_cu12-12.1.0.106-py3-none-manylinux1_x86_64.whl (196.0 MB)\n",
            "Collecting nvidia-nccl-cu12==2.19.3 (from torch)\n",
            "  Using cached nvidia_nccl_cu12-2.19.3-py3-none-manylinux1_x86_64.whl (166.0 MB)\n",
            "Collecting nvidia-nvtx-cu12==12.1.105 (from torch)\n",
            "  Using cached nvidia_nvtx_cu12-12.1.105-py3-none-manylinux1_x86_64.whl (99 kB)\n",
            "Requirement already satisfied: triton==2.2.0 in /usr/local/lib/python3.10/dist-packages (from torch) (2.2.0)\n",
            "Collecting nvidia-nvjitlink-cu12 (from nvidia-cusolver-cu12==11.4.5.107->torch)\n",
            "  Using cached nvidia_nvjitlink_cu12-12.4.127-py3-none-manylinux2014_x86_64.whl (21.1 MB)\n",
            "Requirement already satisfied: MarkupSafe>=2.0 in /usr/local/lib/python3.10/dist-packages (from jinja2->torch) (2.1.5)\n",
            "Requirement already satisfied: mpmath>=0.19 in /usr/local/lib/python3.10/dist-packages (from sympy->torch) (1.3.0)\n",
            "Installing collected packages: nvidia-nvtx-cu12, nvidia-nvjitlink-cu12, nvidia-nccl-cu12, nvidia-curand-cu12, nvidia-cufft-cu12, nvidia-cuda-runtime-cu12, nvidia-cuda-nvrtc-cu12, nvidia-cuda-cupti-cu12, nvidia-cublas-cu12, nvidia-cusparse-cu12, nvidia-cudnn-cu12, nvidia-cusolver-cu12\n",
            "Successfully installed nvidia-cublas-cu12-12.1.3.1 nvidia-cuda-cupti-cu12-12.1.105 nvidia-cuda-nvrtc-cu12-12.1.105 nvidia-cuda-runtime-cu12-12.1.105 nvidia-cudnn-cu12-8.9.2.26 nvidia-cufft-cu12-11.0.2.54 nvidia-curand-cu12-10.3.2.106 nvidia-cusolver-cu12-11.4.5.107 nvidia-cusparse-cu12-12.1.0.106 nvidia-nccl-cu12-2.19.3 nvidia-nvjitlink-cu12-12.4.127 nvidia-nvtx-cu12-12.1.105\n",
            "Downloading...\n",
            "From (original): https://drive.google.com/uc?id=1_eleZ6dBvdKQQeZwxeOJ82g5lPVzmb2M\n",
            "From (redirected): https://drive.google.com/uc?id=1_eleZ6dBvdKQQeZwxeOJ82g5lPVzmb2M&confirm=t&uuid=e9483ad4-3ab8-42eb-be0b-7997d39bc127\n",
            "To: /content/PhAI_model.pth\n",
            "100% 170M/170M [00:00<00:00, 209MB/s]\n",
            "Downloading...\n",
            "From (original): https://drive.google.com/uc?id=14lqkA_Frfy8WpoYyJ-v2sfKkhfPTlNFO\n",
            "From (redirected): https://drive.google.com/uc?id=14lqkA_Frfy8WpoYyJ-v2sfKkhfPTlNFO&confirm=t&uuid=1274791e-55e1-48f2-9e15-18c5c96f7941\n",
            "To: /content/PhAI_jupyter_test.py\n",
            "100% 7.66k/7.66k [00:00<00:00, 17.1MB/s]\n",
            "Downloading...\n",
            "From (original): https://drive.google.com/uc?id=10U-JUhNQKvoYCRPAv5k-iC2D5vdq6MxM\n",
            "From (redirected): https://drive.google.com/uc?id=10U-JUhNQKvoYCRPAv5k-iC2D5vdq6MxM&confirm=t&uuid=18cb8abe-e8bf-4efb-82d4-a45e3b53311a\n",
            "To: /content/crystallography_module.py\n",
            "100% 41.5k/41.5k [00:00<00:00, 48.9MB/s]\n",
            "Downloading...\n",
            "From: https://drive.google.com/uc?id=1Str3GWahzB1QZtpU2obBj-KSbH9JCV8P\n",
            "To: /content/COD_2016452.hkl\n",
            "100% 5.51k/5.51k [00:00<00:00, 14.4MB/s]\n"
          ]
        }
      ],
      "source": [
        "!pip install einops\n",
        "!pip install xraydb\n",
        "!pip install fortranformat\n",
        "!pip install --upgrade --no-cache-dir gdown\n",
        "!pip install torch\n",
        "\n",
        "# downloading sample data, PhAI code and PhAI network.\n",
        "!gdown 1_eleZ6dBvdKQQeZwxeOJ82g5lPVzmb2M\n",
        "!gdown 14lqkA_Frfy8WpoYyJ-v2sfKkhfPTlNFO\n",
        "!gdown 10U-JUhNQKvoYCRPAv5k-iC2D5vdq6MxM\n",
        "!gdown 1Str3GWahzB1QZtpU2obBj-KSbH9JCV8P\n",
        "\n",
        "\n"
      ]
    },
    {
      "cell_type": "code",
      "source": [
        "\n",
        "import PhAI_jupyter_test as PJ\n",
        "import pandas as pd\n",
        "import crystallography_module\n",
        "import torch\n",
        "import math\n",
        "import numpy as np\n",
        "\n"
      ],
      "metadata": {
        "id": "Om2QVvNHDHz7"
      },
      "id": "Om2QVvNHDHz7",
      "execution_count": 13,
      "outputs": []
    },
    {
      "cell_type": "markdown",
      "id": "94b9ef26",
      "metadata": {
        "id": "94b9ef26"
      },
      "source": [
        "Symmetry operators (P21/c)"
      ]
    },
    {
      "cell_type": "code",
      "execution_count": 14,
      "id": "bf0078cb",
      "metadata": {
        "id": "bf0078cb"
      },
      "outputs": [],
      "source": [
        "symmR = [[[ 1. , 0.,  0.],\n",
        "          [ 0. , 1.,  0.],\n",
        "          [ 0. , 0.,  1.]],\n",
        "\n",
        "         [[-1.,  0.,  0.],\n",
        "          [ 0.,  1.,  0.],\n",
        "          [ 0.,  0., -1.]],\n",
        "\n",
        "         [[ 1.,  0.,  0.],\n",
        "          [ 0., -1.,  0.],\n",
        "          [ 0.,  0.,  1.]],\n",
        "\n",
        "         [[-1.,  0.,  0.],\n",
        "          [ 0., -1.,  0.],\n",
        "          [ 0.,  0., -1.]]]\n",
        "\n",
        "symmT = [[0.,  0.,  0. ],\n",
        "         [0.,  0.5, 0.5],\n",
        "         [0.,  0.5, 0.5],\n",
        "         [0.,  0.,  0. ]]"
      ]
    },
    {
      "cell_type": "markdown",
      "id": "b6e37536",
      "metadata": {
        "id": "b6e37536"
      },
      "source": [
        "Defining and loading the neural network and data array."
      ]
    },
    {
      "cell_type": "code",
      "execution_count": 15,
      "id": "1230260e",
      "metadata": {
        "id": "1230260e"
      },
      "outputs": [],
      "source": [
        "\n",
        "# model definition\n",
        "model_args = {\n",
        "     'max_index' : 10,\n",
        "       'filters' : 96,\n",
        "   'kernel_size' : 3,\n",
        "     'cnn_depth' : 6,\n",
        "           'dim' : 1024,\n",
        "       'dim_exp' : 2048,\n",
        " 'dim_token_exp' : 512,\n",
        "     'mlp_depth' : 8,\n",
        "   'reflections' : 1205,\n",
        "}\n",
        "\n",
        "\n",
        "model = PJ.PhAINeuralNetwork(**model_args)\n",
        "state = torch.load('./PhAI_model.pth')#, weights_only = True)\n",
        "model.load_state_dict(state)\n",
        "\n",
        "max_index = 10\n",
        "hkl_array = []\n",
        "for h in range(-max_index, max_index+1):\n",
        "    for k in range(0, max_index+1):\n",
        "        for l in range(0, max_index+1):\n",
        "            if not(h==0 and k==0 and l==0):\n",
        "                if math.sqrt(h**2+k**2+l**2) <= max_index:\n",
        "                    hkl_array.append([h,k,l])\n",
        "hkl_array = np.array(hkl_array,dtype=np.int32)\n",
        "\n"
      ]
    },
    {
      "cell_type": "markdown",
      "id": "b65cbd91",
      "metadata": {
        "id": "b65cbd91"
      },
      "source": [
        "Loading and sorting of reflections"
      ]
    },
    {
      "cell_type": "code",
      "execution_count": 16,
      "id": "0fe15102",
      "metadata": {
        "id": "0fe15102"
      },
      "outputs": [],
      "source": [
        "data = pd.read_table(infile, header=None, delim_whitespace=True)\n",
        "H_tmp = data.loc[:,0:2].astype(int).to_numpy()\n",
        "Fabs_tmp = data.loc[:,3].astype(float).to_numpy()\n",
        "\n",
        "H, Fabs = crystallography_module.merge_reflections(H_tmp, Fabs_tmp)\n",
        "\n",
        "\n",
        "amplitudes = torch.zeros(1,21,11,11)\n",
        "for i in range(len(H)):\n",
        "  if H[i][0] + 10 < 21:\n",
        "    if H[i][1] < 11:\n",
        "      if H[i][2] < 11:\n",
        "        amplitudes[0][H[i][0]+10][H[i][1]][H[i][2]] = Fabs[i]\n",
        "\n",
        "\n",
        "amplitudes_ord = []\n",
        "for h in range(-max_index, max_index+1):\n",
        "    for k in range(0, max_index+1):\n",
        "        for l in range(0, max_index+1):\n",
        "            if not(h==0 and k==0 and l==0):\n",
        "                if math.sqrt(h**2+k**2+l**2) <= max_index:\n",
        "                    amplitudes_ord.append(amplitudes[0][h+10][k][l])\n",
        "\n"
      ]
    },
    {
      "cell_type": "markdown",
      "id": "36038733",
      "metadata": {
        "id": "36038733"
      },
      "source": [
        "Application of PhAI and output of results (.F and .fcf format)"
      ]
    },
    {
      "cell_type": "code",
      "execution_count": 17,
      "id": "db4478fc",
      "metadata": {
        "id": "db4478fc"
      },
      "outputs": [],
      "source": [
        "\n",
        "\n",
        "if p == 0:\n",
        "    init_phases = torch.zeros(1,21,11,11)\n",
        "else:\n",
        "    init_phases = PJ.randomize_output(torch.zeros(1,21,11,11))\n",
        "\n",
        "for i in range(n):\n",
        "    #print('cycle: ', i+1)\n",
        "    if i == 0:\n",
        "        output = PJ.phases(PJ.model(amplitudes, init_phases))\n",
        "        if t == True and n != 1:\n",
        "            PJ.output_files(amplitudes_ord, output, infile[:len(infile)-4] + '_' + str(i+1) + '.F', infile[:len(infile)-4] + '_phase_extension_' + str(i+1) + '.F', cellparam)\n",
        "    else:\n",
        "        for j in range(len(PJ.hkl_array)):\n",
        "            init_phases[0][PJ.hkl_array[j][0]+10][PJ.hkl_array[j][1]][PJ.hkl_array[j][2]] = output[0][j]\n",
        "        output = PJ.phases(PJ.model(amplitudes, init_phases))\n",
        "        if t == True and i + 1 != n:\n",
        "            PJ.output_files(amplitudes_ord, output, infile[:len(infile)-4] + '_' + str(i+1) + '.F', infile[:len(infile)-4] + '_phase_extension_' + str(i+1) + '.F', cellparam)\n",
        "\n",
        "PJ.output_files(amplitudes_ord, output, infile[:len(infile)-4] + '.F', infile[:len(infile)-4] + '_phase_extension.F',cellparam)\n"
      ]
    },
    {
      "cell_type": "markdown",
      "id": "0be2e3d3",
      "metadata": {
        "id": "0be2e3d3"
      },
      "source": [
        "Reading data from saved .F file, computing density and saving as .xplor file. Can be loaded by Pymol.\n",
        "The .fcf file can be loaded into Olex2 for map visualization."
      ]
    },
    {
      "cell_type": "code",
      "execution_count": 18,
      "id": "70784b0e",
      "metadata": {
        "id": "70784b0e"
      },
      "outputs": [],
      "source": [
        "H, F = crystallography_module.read_F(infile[:len(infile)-4] + '.F')"
      ]
    },
    {
      "cell_type": "code",
      "execution_count": 19,
      "id": "0d89eb82",
      "metadata": {
        "id": "0d89eb82"
      },
      "outputs": [],
      "source": [
        "H_full, F_full = crystallography_module.complete_hkl(H, F, SG_symm=[symmR, symmT], half=True)"
      ]
    },
    {
      "cell_type": "code",
      "execution_count": 20,
      "id": "b5a04219",
      "metadata": {
        "colab": {
          "base_uri": "https://localhost:8080/"
        },
        "id": "b5a04219",
        "outputId": "837e8615-8618-45d7-9566-82d7ef726822"
      },
      "outputs": [
        {
          "output_type": "stream",
          "name": "stdout",
          "text": []
        }
      ],
      "source": [
        "den_map = crystallography_module.calc_density_map_full(H_full, F_full, cellparam, map_resolution, pixel_mult=(2, 2, 2), N=2, sort_reflns=False)"
      ]
    },
    {
      "cell_type": "code",
      "execution_count": 21,
      "id": "fefb4bcc",
      "metadata": {
        "scrolled": true,
        "colab": {
          "base_uri": "https://localhost:8080/"
        },
        "id": "fefb4bcc",
        "outputId": "dc10da78-eb08-4908-a7b9-03eff75f40e2"
      },
      "outputs": [
        {
          "output_type": "stream",
          "name": "stdout",
          "text": [
            "\n"
          ]
        }
      ],
      "source": [
        "crystallography_module.save_den_map_xplor(den_map, cellparam, infile[:len(infile)-2] + '.xplor', infile[:len(infile)-2])"
      ]
    },
    {
      "cell_type": "markdown",
      "id": "f366b81e",
      "metadata": {
        "id": "f366b81e"
      },
      "source": [
        "End of PhAI Jupyter notebook."
      ]
    }
  ],
  "metadata": {
    "kernelspec": {
      "display_name": "Python 3 (ipykernel)",
      "language": "python",
      "name": "python3"
    },
    "language_info": {
      "codemirror_mode": {
        "name": "ipython",
        "version": 3
      },
      "file_extension": ".py",
      "mimetype": "text/x-python",
      "name": "python",
      "nbconvert_exporter": "python",
      "pygments_lexer": "ipython3",
      "version": "3.10.13"
    },
    "colab": {
      "provenance": [],
      "include_colab_link": true
    }
  },
  "nbformat": 4,
  "nbformat_minor": 5
}